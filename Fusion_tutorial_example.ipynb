{
 "cells": [
  {
   "cell_type": "markdown",
   "id": "0d3813a6",
   "metadata": {},
   "source": [
    "# Fusion Analysis at ALCF with Globus Flows\n",
    "\n",
    "This notebook shows how [Globus Flows](https://www.globus.org/globus-flows-service) can be used to perform analysis using [ionorb](https://github.com/GAmfe/ionorbgpu).\n",
    "\n",
    "Globus Flows is a reliable and secure platform for orchestrating and performing research data management and analysis tasks. A flow is often needed to manage data coming from instruments, e.g., image files can be moved from local storage attached to a microscope to a high-performance storage system where they may be accessed by all members of the research project.\n",
    "\n",
    "In this notebook we show how Flows can be used to launch ionorb tasks at ALCF. We then walk through the process of creating a simple flow and describe potential extensions to make it applicable in real use cases.\n",
    "\n",
    "More examples of creating and running flows can be found on our [demo instance](https://jupyter.demo.globus.org/hub/).\n",
    "\n",
    "To run this notebook you will need to install:\n",
    "\n",
    "`pip install -U globus_automate_client globus_compute_sdk`"
   ]
  },
  {
   "cell_type": "markdown",
   "id": "c2028f76",
   "metadata": {},
   "source": [
    "### A note on Auth\n",
    "A flow manages authentication by seamlessly passing tokens between different services. When the flow is started it first acquires tokens for each service used within the flow to perform actions on the user's behalf. Provided the user has access to the Globus Transfer and Compute endpoints the flow will be able to move data and perform analysis as the user.\n",
    "\n",
    "While this example notebook employs user tokens to run, production deployments can be automated using an ALCF Service account and Globus Client credential. A service account provides access to ALCF for a specific resource (e.g., a beamline). Following this model, a Globus Compute endpoint can be configured on behalf of the service account and the flow can be granted access. This allows flows to be launched without a human in the loop, making it ideal for automated analysis and publication pipelines."
   ]
  },
  {
   "cell_type": "markdown",
   "id": "9a425fa1",
   "metadata": {},
   "source": [
    "# Create Compute endpoint\n",
    "\n",
    "To run this notebook, you will first have to create a Globus Compute Endpoint on Polaris.  Refer to the Globus Compute docs or the README.md file for details.  The endpoint will have a unique UUID that you can query with `globus-compute-endpoint list`."
   ]
  },
  {
   "cell_type": "markdown",
   "id": "bc568f56",
   "metadata": {},
   "source": [
    "# Testing the Compute endpoint\n",
    "\n",
    "It is important to check whether the compute endpoint is active. The endpoint will need restarting following ALCF maintenance periods."
   ]
  },
  {
   "cell_type": "code",
   "execution_count": 1,
   "id": "c0f1c904",
   "metadata": {},
   "outputs": [],
   "source": [
    "compute_endpoint = \"317e156c-7712-4600-8cc2-3f5025b1c69a\""
   ]
  },
  {
   "cell_type": "code",
   "execution_count": 2,
   "id": "dc5ccd82",
   "metadata": {},
   "outputs": [],
   "source": [
    "from globus_compute_sdk import Executor, Client\n",
    "gce = Executor(endpoint_id=compute_endpoint)\n",
    "gc = Client()"
   ]
  },
  {
   "cell_type": "code",
   "execution_count": 4,
   "id": "73196db9",
   "metadata": {},
   "outputs": [
    {
     "name": "stdout",
     "output_type": "stream",
     "text": [
      "online\n"
     ]
    }
   ],
   "source": [
    "ep_status = gc.get_endpoint_status(compute_endpoint)\n",
    "print(ep_status['status'])"
   ]
  },
  {
   "cell_type": "markdown",
   "id": "27f7ac55",
   "metadata": {},
   "source": [
    "Alternatively, you can send it a simple task"
   ]
  },
  {
   "cell_type": "code",
   "execution_count": 5,
   "id": "9da493ba",
   "metadata": {},
   "outputs": [
    {
     "name": "stdout",
     "output_type": "stream",
     "text": [
      "<ComputeFuture at 0x107bd28b0 state=pending>\n"
     ]
    }
   ],
   "source": [
    "def test():\n",
    "    return \"hello\"\n",
    "\n",
    "fut = gce.submit(test)\n",
    "\n",
    "print(fut)"
   ]
  },
  {
   "cell_type": "code",
   "execution_count": 6,
   "id": "fcb9a29e",
   "metadata": {},
   "outputs": [
    {
     "data": {
      "text/plain": [
       "'hello'"
      ]
     },
     "execution_count": 6,
     "metadata": {},
     "output_type": "execute_result"
    }
   ],
   "source": [
    "fut.result()"
   ]
  },
  {
   "cell_type": "markdown",
   "id": "fcb8ae33",
   "metadata": {},
   "source": [
    "## Creating a simple flow\n",
    "\n",
    "Here we explain how the flow is defined. Running these steps will register a flow of your own that you can then run.\n",
    "\n",
    "To run these steps you will need to install:"
   ]
  },
  {
   "cell_type": "code",
   "execution_count": 7,
   "id": "f72abbf6",
   "metadata": {},
   "outputs": [],
   "source": [
    "from globus_automate_client import create_flows_client\n",
    "\n",
    "# Create a flows client to register and run the flow\n",
    "fc = create_flows_client()"
   ]
  },
  {
   "cell_type": "markdown",
   "id": "3fb2fb6e",
   "metadata": {},
   "source": [
    "Specify the flow definition. This JSON definition is derived from the Amazon Step Functions language. States of the flow are chained together by specifying the `Next` field to construct a pipeline of operations. This simple flow consists of two steps:\n",
    "\n",
    "1. TransferFiles\n",
    "2. Run Fusion application ionorb\n",
    "\n",
    "The first step, TransferFiles, uses the Globus Transfer action provider. The step is given a 300s walltime and the entire input (source, dest, recursive) is required to be passed into the step. Static values can be used here to simplify user input.\n",
    "\n",
    "The second step, Fusion, uses the Globus Compute action provider. Input is dymanically passed in as `kwargs`, which are then passed to the function to be executed. The step is given a 3600s walltime (to manage long queue times) and is the conclusion of the flow."
   ]
  },
  {
   "cell_type": "code",
   "execution_count": 21,
   "id": "7ee683c8",
   "metadata": {},
   "outputs": [],
   "source": [
    "flow_definition = {\n",
    "    \"Comment\": \"Transfer and run Fusion ionorb\",\n",
    "    \"StartAt\": \"TransferFiles\",\n",
    "    \"States\": {\n",
    "        \"TransferFiles\": {\n",
    "            \"Comment\": \"Transfer files\",\n",
    "            \"Type\": \"Action\",\n",
    "            \"ActionUrl\": \"https://actions.automate.globus.org/transfer/transfer\",\n",
    "            \"Parameters\": {\n",
    "                \"source_endpoint_id.$\": \"$.input.source.id\",\n",
    "                \"destination_endpoint_id.$\": \"$.input.destination.id\",\n",
    "                \"transfer_items\": [\n",
    "                    {\n",
    "                        \"source_path.$\": \"$.input.source.path\",\n",
    "                        \"destination_path.$\": \"$.input.destination.path\",\n",
    "                        \"recursive.$\": \"$.input.recursive_tx\"\n",
    "                    }\n",
    "                ]\n",
    "            },\n",
    "            \"ResultPath\": \"$.TransferFiles\",\n",
    "            \"WaitTime\": 300,\n",
    "            \"Next\": \"Fusion\"\n",
    "        },\n",
    "        \"Fusion\": {\n",
    "            \"Comment\": \"Fusion\",\n",
    "            \"Type\": \"Action\",\n",
    "            \"ActionUrl\": \"https://compute.actions.globus.org/\",\n",
    "            \"Parameters\": {\n",
    "                \"endpoint.$\": \"$.input.compute_endpoint_id\",\n",
    "                \"function.$\": \"$.input.compute_function_id\",\n",
    "                \"kwargs.$\": \"$.input.compute_function_kwargs\"\n",
    "            },\n",
    "            \"ResultPath\": \"$.FusionOutput\",\n",
    "            \"WaitTime\": 3600,\n",
    "            \"End\": True\n",
    "        }\n",
    "    }\n",
    "}"
   ]
  },
  {
   "cell_type": "markdown",
   "id": "deb85183",
   "metadata": {},
   "source": [
    "Register the flow. We leave the input schema blank and can later update it to support the web interface."
   ]
  },
  {
   "cell_type": "code",
   "execution_count": 22,
   "id": "bf90c1cf",
   "metadata": {},
   "outputs": [
    {
     "name": "stdout",
     "output_type": "stream",
     "text": [
      "{\n",
      "  \"id\": \"b969db26-c94b-47dc-adea-4daa6a2e7924\",\n",
      "  \"title\": \"Fusion tutorial example flow\",\n",
      "  \"subtitle\": \"\",\n",
      "  \"description\": \"\",\n",
      "  \"definition\": {\n",
      "    \"StartAt\": \"TransferFiles\",\n",
      "    \"States\": {\n",
      "      \"TransferFiles\": {\n",
      "        \"Parameters\": {\n",
      "          \"source_endpoint_id.$\": \"$.input.source.id\",\n",
      "          \"destination_endpoint_id.$\": \"$.input.destination.id\",\n",
      "          \"transfer_items\": [\n",
      "            {\n",
      "              \"source_path.$\": \"$.input.source.path\",\n",
      "              \"destination_path.$\": \"$.input.destination.path\",\n",
      "              \"recursive.$\": \"$.input.recursive_tx\"\n",
      "            }\n",
      "          ]\n",
      "        },\n",
      "        \"Type\": \"Action\",\n",
      "        \"Comment\": \"Transfer files\",\n",
      "        \"Next\": \"Fusion\",\n",
      "        \"ActionUrl\": \"https://actions.automate.globus.org/transfer/transfer\",\n",
      "        \"ResultPath\": \"$.TransferFiles\",\n",
      "        \"WaitTime\": 300\n",
      "      },\n",
      "      \"Fusion\": {\n",
      "        \"Parameters\": {\n",
      "          \"endpoint.$\": \"$.input.compute_endpoint_id\",\n",
      "          \"function.$\": \"$.input.compute_function_id\",\n",
      "          \"kwargs.$\": \"$.input.compute_function_kwargs\"\n",
      "        },\n",
      "        \"Type\": \"Action\",\n",
      "        \"Comment\": \"Fusion\",\n",
      "        \"End\": true,\n",
      "        \"ActionUrl\": \"https://compute.actions.globus.org/\",\n",
      "        \"ResultPath\": \"$.FusionOutput\",\n",
      "        \"WaitTime\": 3600\n",
      "      }\n",
      "    },\n",
      "    \"Comment\": \"Transfer and run Fusion ionorb\"\n",
      "  },\n",
      "  \"input_schema\": {},\n",
      "  \"flow_url\": \"https://flows.globus.org/flows/b969db26-c94b-47dc-adea-4daa6a2e7924\",\n",
      "  \"action_url\": \"https://flows.globus.org/flows/b969db26-c94b-47dc-adea-4daa6a2e7924\",\n",
      "  \"globus_auth_scope\": \"https://auth.globus.org/scopes/b969db26-c94b-47dc-adea-4daa6a2e7924/flow_b969db26_c94b_47dc_adea_4daa6a2e7924_user\",\n",
      "  \"globus_auth_scopes_by_RunAs\": null,\n",
      "  \"synchronous\": false,\n",
      "  \"log_supported\": true,\n",
      "  \"types\": [\n",
      "    \"Action\"\n",
      "  ],\n",
      "  \"api_version\": \"1.0\",\n",
      "  \"keywords\": [],\n",
      "  \"principal_urn\": \"urn:globus:auth:identity:b969db26-c94b-47dc-adea-4daa6a2e7924\",\n",
      "  \"globus_auth_username\": \"b969db26-c94b-47dc-adea-4daa6a2e7924@clients.auth.globus.org\",\n",
      "  \"created_at\": \"2023-09-12T17:36:15.307665+00:00\",\n",
      "  \"updated_at\": \"2023-09-12T17:36:15.307665+00:00\",\n",
      "  \"user_role\": \"flow_owner\",\n",
      "  \"flow_owner\": \"urn:globus:auth:identity:bd2b5002-d274-11e5-b446-93314fed2a79\",\n",
      "  \"created_by\": \"urn:globus:auth:identity:bd2b5002-d274-11e5-b446-93314fed2a79\",\n",
      "  \"flow_viewers\": [],\n",
      "  \"visible_to\": [],\n",
      "  \"flow_starters\": [],\n",
      "  \"runnable_by\": [],\n",
      "  \"flow_administrators\": [],\n",
      "  \"administered_by\": [],\n",
      "  \"subscription_id\": null,\n",
      "  \"dry_run\": false\n",
      "}\n",
      "Newly created flow with id:\n",
      "b969db26-c94b-47dc-adea-4daa6a2e7924\n",
      "and scope:\n",
      "https://auth.globus.org/scopes/b969db26-c94b-47dc-adea-4daa6a2e7924/flow_b969db26_c94b_47dc_adea_4daa6a2e7924_user\n"
     ]
    }
   ],
   "source": [
    "flow = fc.deploy_flow(flow_definition, title=\"Fusion tutorial example flow\", input_schema={})\n",
    "flow_id = flow['id']\n",
    "print(flow)\n",
    "flow_scope = flow['globus_auth_scope']\n",
    "print(f'Newly created flow with id:\\n{flow_id}\\nand scope:\\n{flow_scope}')"
   ]
  },
  {
   "cell_type": "markdown",
   "id": "72ed205b",
   "metadata": {},
   "source": [
    "## Defining a ionorb function\n",
    "\n",
    "To run ionorb via the flow we need to register a function with Globus Compute and pass the function's uuid into the flow as input. Here we define and register this function."
   ]
  },
  {
   "cell_type": "markdown",
   "id": "1c3de22e",
   "metadata": {},
   "source": [
    "Define a function to call ionorb. \n",
    "\n",
    "This is a simple wrapper function that uses subprocess to invoke a templated bash command to run.\n",
    "\n",
    "* NOTE: Until tested, this simply constructs a singularity exec command and then returns the string, rather than executing it.\n",
    "\n",
    "Further postprocessing can be applied within this function. Any JSON returned here can be used within the flow in subsequent steps."
   ]
  },
  {
   "cell_type": "code",
   "execution_count": 12,
   "id": "aeabdb3f",
   "metadata": {},
   "outputs": [],
   "source": [
    "def fusion_wrapper(run_directory, config_path=\"ionorb_stl2d_boris.config\"):\n",
    "    import subprocess, os, time, shutil\n",
    "\n",
    "    start = time.time()\n",
    "    os.chdir(run_directory)\n",
    "    command = f\"/eagle/IRIBeta/bin/ionorb_stl_boris2d {config_path}\"\n",
    "    res = subprocess.run(command.split(\" \"), stdout=subprocess.PIPE, stderr=subprocess.PIPE)\n",
    "    end = time.time()\n",
    "    runtime = end - start\n",
    "\n",
    "    if res.returncode != 0:\n",
    "        raise Exception(f\"Application failed with non-zero return code: {res.returncode} stdout='{res.stdout.decode('utf-8')}' stderr='{res.stderr.decode('utf-8')}' runtime={runtime} completion_time={completion_time}\")\n",
    "    else:\n",
    "        return res.returncode, res.stdout.decode(\"utf-8\"), res.stderr.decode(\"utf-8\"), runtime"
   ]
  },
  {
   "cell_type": "markdown",
   "id": "9c441a5f",
   "metadata": {},
   "source": [
    "Confirm the function works as expected"
   ]
  },
  {
   "cell_type": "code",
   "execution_count": 13,
   "id": "73dd809d",
   "metadata": {},
   "outputs": [],
   "source": [
    "fut = gce.submit(fusion_wrapper, run_directory=\"/eagle/IRIBeta/test_runs/test\")"
   ]
  },
  {
   "cell_type": "code",
   "execution_count": 14,
   "id": "8ee2d263",
   "metadata": {},
   "outputs": [
    {
     "data": {
      "text/plain": [
       "(0,\n",
       " ' Version = 3f5b9155894e68aa397e10e636c7c4c58ba649a7(*)\\n Built on Fri 01 Sep 2023 09:52:53 AM CDT\\n Run date 09/12/2023 11:04:49.774\\n Configuration parameters used:\\n   dT       =   1.0000000000000001E-009\\n   report   =         2000\\n   n_reports=          110\\n   B_fname  =B_164476.B.txt\\n   birth_fn =birth_164476.birth.txt\\n   stl_fn   =\\n DIII-D_Model_26OCT2016_withHPH_And2xLocatingTriangles_BINARY_meters_noPositiveSpace.STL\\n   nels      =       150000\\n   m         =    2.000000000000000       (   3.3452438000000000E-027 )\\n   q         =    1.000000000000000       (   1.6021766000000000E-019 )\\n   B res.         =            65 x           65\\n   B_ripple       =   F\\n   Interp.   =  bilinear\\n   stl_triangles =        479888\\n   dPhi          =     0.000000    \\n   PhiSignChange =   F\\n   Saving only hits\\n \\n Calibrating...\\n   Fraction of particles on GPU  67%\\n \\n Starting...\\n[                       3] time=  0.0000E+00 step=           1 nels=      150000\\n[                  465526] time=  0.2000E-05 step=        2001 nels=      149993\\n[                  930367] time=  0.4000E-05 step=        4001 nels=      149850\\n[                 1366609] time=  0.6000E-05 step=        6001 nels=      149061\\n[                 1811443] time=  0.8000E-05 step=        8001 nels=      140060\\n[                 2236242] time=  0.1000E-04 step=       10001 nels=      126322\\n[                 2617520] time=  0.1200E-04 step=       12001 nels=      117570\\n[                 2984244] time=  0.1400E-04 step=       14001 nels=      112853\\n[                 3466894] time=  0.1600E-04 step=       16001 nels=      109308\\n[                 4020276] time=  0.1800E-04 step=       18001 nels=      106356\\n[                 4577573] time=  0.2000E-04 step=       20001 nels=      103769\\n[                 5119091] time=  0.2200E-04 step=       22001 nels=      101343\\n[                 5631461] time=  0.2400E-04 step=       24001 nels=       99090\\n[                 6136532] time=  0.2600E-04 step=       26001 nels=       96984\\n[                 6641803] time=  0.2800E-04 step=       28001 nels=       95050\\n[                 7134720] time=  0.3000E-04 step=       30001 nels=       93159\\n[                 7607741] time=  0.3200E-04 step=       32001 nels=       91418\\n[                 8070038] time=  0.3400E-04 step=       34001 nels=       89678\\n[                 8507830] time=  0.3600E-04 step=       36001 nels=       88033\\n[                 8921786] time=  0.3800E-04 step=       38001 nels=       86372\\n[                 9320666] time=  0.4000E-04 step=       40001 nels=       84783\\n[                 9701780] time=  0.4200E-04 step=       42001 nels=       83299\\n[                10087583] time=  0.4400E-04 step=       44001 nels=       81816\\n[                10459040] time=  0.4600E-04 step=       46001 nels=       80455\\n[                10820077] time=  0.4800E-04 step=       48001 nels=       79052\\n[                11180221] time=  0.5000E-04 step=       50001 nels=       77813\\n[                11527557] time=  0.5200E-04 step=       52001 nels=       76591\\n[                11868925] time=  0.5400E-04 step=       54001 nels=       75495\\n[                12206721] time=  0.5600E-04 step=       56001 nels=       74530\\n[                12539102] time=  0.5800E-04 step=       58001 nels=       73591\\n[                12858227] time=  0.6000E-04 step=       60001 nels=       72666\\n[                13171365] time=  0.6200E-04 step=       62001 nels=       71826\\n[                13490796] time=  0.6400E-04 step=       64001 nels=       71074\\n[                13791188] time=  0.6600E-04 step=       66001 nels=       70315\\n[                14082539] time=  0.6800E-04 step=       68001 nels=       69601\\n[                14367218] time=  0.7000E-04 step=       70001 nels=       68946\\n[                14647186] time=  0.7200E-04 step=       72001 nels=       68335\\n[                14931346] time=  0.7400E-04 step=       74001 nels=       67834\\n[                15213828] time=  0.7600E-04 step=       76001 nels=       67351\\n[                15492663] time=  0.7800E-04 step=       78001 nels=       66894\\n[                15759952] time=  0.8000E-04 step=       80001 nels=       66472\\n[                16018052] time=  0.8200E-04 step=       82001 nels=       66051\\n[                16276153] time=  0.8400E-04 step=       84001 nels=       65704\\n[                16529951] time=  0.8600E-04 step=       86001 nels=       65373\\n[                16786107] time=  0.8800E-04 step=       88001 nels=       65023\\n[                17043955] time=  0.9000E-04 step=       90001 nels=       64707\\n[                17305432] time=  0.9200E-04 step=       92001 nels=       64439\\n[                17558391] time=  0.9400E-04 step=       94001 nels=       64182\\n[                17806173] time=  0.9600E-04 step=       96001 nels=       63973\\n[                18047366] time=  0.9800E-04 step=       98001 nels=       63795\\n[                18280456] time=  0.1000E-03 step=      100001 nels=       63619\\n[                18515418] time=  0.1020E-03 step=      102001 nels=       63485\\n[                18741182] time=  0.1040E-03 step=      104001 nels=       63347\\n[                18959973] time=  0.1060E-03 step=      106001 nels=       63208\\n[                19176568] time=  0.1080E-03 step=      108001 nels=       63090\\n[                19396727] time=  0.1100E-03 step=      110001 nels=       63010\\n[                19612895] time=  0.1120E-03 step=      112001 nels=       62909\\n[                19826044] time=  0.1140E-03 step=      114001 nels=       62824\\n[                20031861] time=  0.1160E-03 step=      116001 nels=       62744\\n[                20230218] time=  0.1180E-03 step=      118001 nels=       62681\\n[                20422774] time=  0.1200E-03 step=      120001 nels=       62625\\n[                20620287] time=  0.1220E-03 step=      122001 nels=       62577\\n[                20817748] time=  0.1240E-03 step=      124001 nels=       62527\\n[                21014038] time=  0.1260E-03 step=      126001 nels=       62478\\n[                21204138] time=  0.1280E-03 step=      128001 nels=       62424\\n[                21392420] time=  0.1300E-03 step=      130001 nels=       62394\\n[                21581568] time=  0.1320E-03 step=      132001 nels=       62361\\n[                21769190] time=  0.1340E-03 step=      134001 nels=       62325\\n[                21953298] time=  0.1360E-03 step=      136001 nels=       62293\\n[                22137264] time=  0.1380E-03 step=      138001 nels=       62262\\n[                22320707] time=  0.1400E-03 step=      140001 nels=       62244\\n[                22502602] time=  0.1420E-03 step=      142001 nels=       62225\\n[                22684152] time=  0.1440E-03 step=      144001 nels=       62206\\n[                22865688] time=  0.1460E-03 step=      146001 nels=       62196\\n[                23049666] time=  0.1480E-03 step=      148001 nels=       62186\\n[                23236953] time=  0.1500E-03 step=      150001 nels=       62173\\n[                23422168] time=  0.1520E-03 step=      152001 nels=       62163\\n[                23608879] time=  0.1540E-03 step=      154001 nels=       62148\\n[                23793926] time=  0.1560E-03 step=      156001 nels=       62132\\n[                23977760] time=  0.1580E-03 step=      158001 nels=       62121\\n[                24160992] time=  0.1600E-03 step=      160001 nels=       62113\\n[                24342190] time=  0.1620E-03 step=      162001 nels=       62099\\n[                24525688] time=  0.1640E-03 step=      164001 nels=       62092\\n[                24707380] time=  0.1660E-03 step=      166001 nels=       62085\\n[                24888484] time=  0.1680E-03 step=      168001 nels=       62078\\n[                25069786] time=  0.1700E-03 step=      170001 nels=       62072\\n[                25250739] time=  0.1720E-03 step=      172001 nels=       62069\\n[                25431568] time=  0.1740E-03 step=      174001 nels=       62066\\n[                25612580] time=  0.1760E-03 step=      176001 nels=       62065\\n[                25793517] time=  0.1780E-03 step=      178001 nels=       62063\\n[                25974426] time=  0.1800E-03 step=      180001 nels=       62060\\n[                26155572] time=  0.1820E-03 step=      182001 nels=       62059\\n[                26336352] time=  0.1840E-03 step=      184001 nels=       62057\\n[                26517230] time=  0.1860E-03 step=      186001 nels=       62056\\n[                26698290] time=  0.1880E-03 step=      188001 nels=       62054\\n[                26878591] time=  0.1900E-03 step=      190001 nels=       62054\\n[                27060072] time=  0.1920E-03 step=      192001 nels=       62053\\n[                27240987] time=  0.1940E-03 step=      194001 nels=       62051\\n[                27421265] time=  0.1960E-03 step=      196001 nels=       62051\\n[                27601792] time=  0.1980E-03 step=      198001 nels=       62051\\n[                27782554] time=  0.2000E-03 step=      200001 nels=       62051\\n[                27963510] time=  0.2020E-03 step=      202001 nels=       62050\\n[                28144435] time=  0.2040E-03 step=      204001 nels=       62049\\n[                28325102] time=  0.2060E-03 step=      206001 nels=       62049\\n[                28505575] time=  0.2080E-03 step=      208001 nels=       62049\\n[                28686094] time=  0.2100E-03 step=      210001 nels=       62049\\n[                28866855] time=  0.2120E-03 step=      212001 nels=       62049\\n[                29047465] time=  0.2140E-03 step=      214001 nels=       62049\\n[                29228491] time=  0.2160E-03 step=      216001 nels=       62048\\n[                29409746] time=  0.2180E-03 step=      218001 nels=       62047\\n[                29590692] time=  0.2200E-03 step=      220001 nels=       62045\\n',\n",
       " '',\n",
       " 31.642999410629272)"
      ]
     },
     "execution_count": 14,
     "metadata": {},
     "output_type": "execute_result"
    }
   ],
   "source": [
    "fut.result()"
   ]
  },
  {
   "cell_type": "markdown",
   "id": "7c54ef7b",
   "metadata": {},
   "source": [
    "Register the function explicitly with Compute to get a UUID that can be passed into the flow. "
   ]
  },
  {
   "cell_type": "code",
   "execution_count": 15,
   "id": "b9c249df",
   "metadata": {},
   "outputs": [],
   "source": [
    "fusion_func_uuid = gc.register_function(fusion_wrapper)"
   ]
  },
  {
   "cell_type": "code",
   "execution_count": 16,
   "id": "d926ebdc",
   "metadata": {},
   "outputs": [
    {
     "data": {
      "text/plain": [
       "'8d4fd67d-887f-475e-bb09-e13921c5d72e'"
      ]
     },
     "execution_count": 16,
     "metadata": {},
     "output_type": "execute_result"
    }
   ],
   "source": [
    "fusion_func_uuid"
   ]
  },
  {
   "cell_type": "markdown",
   "id": "11b217f9",
   "metadata": {},
   "source": [
    "## Running the flow\n",
    "\n",
    "We can now specify input and start the flow.\n",
    "\n",
    "First we construct an input payload to pass to the flow. This defines the transfer inputs (source, destination, recursive_tx), the compute endpoint and function id, and the compute payload kwargs.\n",
    "\n",
    "Note, the transfer is performed between the two public globus tutorial transfer endpoints."
   ]
  },
  {
   "cell_type": "code",
   "execution_count": 23,
   "id": "282b155f",
   "metadata": {},
   "outputs": [],
   "source": [
    "flow_input = {\n",
    "    \"input\": {\n",
    "      \"source\": {\n",
    "        \"id\": \"ddb59aef-6d04-11e5-ba46-22000b92c6ec\",\n",
    "        \"path\": \"/~/\"\n",
    "      },\n",
    "      \"destination\": {\n",
    "        \"id\": \"ddb59af0-6d04-11e5-ba46-22000b92c6ec\",\n",
    "        \"path\": \"/~/\"\n",
    "      },\n",
    "      \"recursive_tx\": True,\n",
    "      \"compute_endpoint_id\": compute_endpoint,\n",
    "      \"compute_function_id\": fusion_func_uuid,\n",
    "      \"compute_function_kwargs\": {\n",
    "        \"run_directory\": \"/eagle/IRIBeta/test_runs/test\",\n",
    "      }\n",
    "    }\n",
    "}"
   ]
  },
  {
   "cell_type": "markdown",
   "id": "6d43cf41",
   "metadata": {},
   "source": [
    "Submit the flow for execution. You will be asked to grant permission to the flow to perform the transfer and compute step on your behalf. Following that, you can monitor the flow either here or at the Globus webapp (the link is generated)."
   ]
  },
  {
   "cell_type": "code",
   "execution_count": 24,
   "id": "f6b72db7",
   "metadata": {},
   "outputs": [
    {
     "name": "stderr",
     "output_type": "stream",
     "text": [
      "Please log into Globus here:\n",
      "----------------------------\n",
      "https://auth.globus.org/v2/oauth2/authorize?client_id=e6c75d97-532a-4c88-b031-8584a319fa3e&redirect_uri=https%3A%2F%2Fauth.globus.org%2Fv2%2Fweb%2Fauth-code&scope=https%3A%2F%2Fauth.globus.org%2Fscopes%2Fb969db26-c94b-47dc-adea-4daa6a2e7924%2Fflow_b969db26_c94b_47dc_adea_4daa6a2e7924_user&state=_default&response_type=code&code_challenge=KuSL6upnRZ4CrTvy2-PdHCrB5LnxX6ZwETRrfjPmMJA&code_challenge_method=S256&access_type=offline&prefill_named_grant=Globus+Automate+Command+Line+Interface+on+oberon.local\n",
      "----------------------------\n",
      "\u001b[0m\n",
      "Enter the resulting Authorization Code here:"
     ]
    },
    {
     "name": "stdout",
     "output_type": "stream",
     "text": [
      "Follow your flow here: https://app.globus.org/runs/64b9f08c-2c77-4e57-b5b4-ace7e6ab32a6\n",
      "Flow status: ACTIVE\n",
      "Flow status: ACTIVE\n",
      "Flow status: ACTIVE\n",
      "Flow status: ACTIVE\n",
      "Flow status: SUCCEEDED\n",
      "Check the event log here: https://app.globus.org/runs/64b9f08c-2c77-4e57-b5b4-ace7e6ab32a6/logs\n"
     ]
    }
   ],
   "source": [
    "import time\n",
    "\n",
    "flow_action = fc.run_flow(flow_id, flow_scope, flow_input, \n",
    "                          label=\"Tutorial Fusion Run\", \n",
    "                          tags=['ionorb', 'Fusion', 'Demo'])\n",
    "\n",
    "flow_action_id = flow_action['action_id']\n",
    "flow_status = flow_action['status']\n",
    "\n",
    "print(f'Follow your flow here: https://app.globus.org/runs/{flow_action_id}')\n",
    "\n",
    "while flow_status == 'ACTIVE':\n",
    "    time.sleep(10)\n",
    "    flow_action = fc.flow_action_status(flow_id, flow_scope, flow_action_id)\n",
    "    flow_status = flow_action['status']\n",
    "    print(f'Flow status: {flow_status}')\n",
    "    \n",
    "print(f'Check the event log here: https://app.globus.org/runs/{flow_action_id}/logs')"
   ]
  },
  {
   "cell_type": "markdown",
   "id": "6cade528",
   "metadata": {},
   "source": [
    "You can also check the output of the flow directly here."
   ]
  },
  {
   "cell_type": "code",
   "execution_count": 25,
   "id": "e3980bba",
   "metadata": {},
   "outputs": [
    {
     "data": {
      "text/plain": [
       "[[0,\n",
       "  ' Version = 3f5b9155894e68aa397e10e636c7c4c58ba649a7(*)\\n Built on Fri 01 Sep 2023 09:52:53 AM CDT\\n Run date 09/12/2023 12:37:05.776\\n Configuration parameters used:\\n   dT       =   1.0000000000000001E-009\\n   report   =         2000\\n   n_reports=          110\\n   B_fname  =B_164476.B.txt\\n   birth_fn =birth_164476.birth.txt\\n   stl_fn   =\\n DIII-D_Model_26OCT2016_withHPH_And2xLocatingTriangles_BINARY_meters_noPositiveSpace.STL\\n   nels      =       150000\\n   m         =    2.000000000000000       (   3.3452438000000000E-027 )\\n   q         =    1.000000000000000       (   1.6021766000000000E-019 )\\n   B res.         =            65 x           65\\n   B_ripple       =   F\\n   Interp.   =  bilinear\\n   stl_triangles =        479888\\n   dPhi          =     0.000000    \\n   PhiSignChange =   F\\n   Saving only hits\\n \\n Calibrating...\\n   Fraction of particles on GPU  67%\\n \\n Starting...\\n[                       1] time=  0.0000E+00 step=           1 nels=      150000\\n[                  450079] time=  0.2000E-05 step=        2001 nels=      149993\\n[                  909739] time=  0.4000E-05 step=        4001 nels=      149850\\n[                 1337894] time=  0.6000E-05 step=        6001 nels=      149061\\n[                 1765109] time=  0.8000E-05 step=        8001 nels=      140060\\n[                 2173670] time=  0.1000E-04 step=       10001 nels=      126322\\n[                 2544223] time=  0.1200E-04 step=       12001 nels=      117570\\n[                 2905281] time=  0.1400E-04 step=       14001 nels=      112853\\n[                 3379101] time=  0.1600E-04 step=       16001 nels=      109308\\n[                 3923290] time=  0.1800E-04 step=       18001 nels=      106356\\n[                 4468629] time=  0.2000E-04 step=       20001 nels=      103769\\n[                 5001996] time=  0.2200E-04 step=       22001 nels=      101343\\n[                 5506395] time=  0.2400E-04 step=       24001 nels=       99090\\n[                 6002623] time=  0.2600E-04 step=       26001 nels=       96984\\n[                 6500369] time=  0.2800E-04 step=       28001 nels=       95050\\n[                 6990225] time=  0.3000E-04 step=       30001 nels=       93159\\n[                 7457257] time=  0.3200E-04 step=       32001 nels=       91418\\n[                 7909079] time=  0.3400E-04 step=       34001 nels=       89678\\n[                 8340924] time=  0.3600E-04 step=       36001 nels=       88033\\n[                 8747839] time=  0.3800E-04 step=       38001 nels=       86372\\n[                 9140716] time=  0.4000E-04 step=       40001 nels=       84783\\n[                 9512692] time=  0.4200E-04 step=       42001 nels=       83299\\n[                 9891022] time=  0.4400E-04 step=       44001 nels=       81816\\n[                10253109] time=  0.4600E-04 step=       46001 nels=       80455\\n[                10605258] time=  0.4800E-04 step=       48001 nels=       79052\\n[                10958800] time=  0.5000E-04 step=       50001 nels=       77813\\n[                11299994] time=  0.5200E-04 step=       52001 nels=       76591\\n[                11634272] time=  0.5400E-04 step=       54001 nels=       75495\\n[                11964239] time=  0.5600E-04 step=       56001 nels=       74530\\n[                12288311] time=  0.5800E-04 step=       58001 nels=       73591\\n[                12604527] time=  0.6000E-04 step=       60001 nels=       72666\\n[                12910829] time=  0.6200E-04 step=       62001 nels=       71826\\n[                13223999] time=  0.6400E-04 step=       64001 nels=       71074\\n[                13519549] time=  0.6600E-04 step=       66001 nels=       70315\\n[                13806560] time=  0.6800E-04 step=       68001 nels=       69601\\n[                14085731] time=  0.7000E-04 step=       70001 nels=       68946\\n[                14359192] time=  0.7200E-04 step=       72001 nels=       68335\\n[                14637740] time=  0.7400E-04 step=       74001 nels=       67834\\n[                14915131] time=  0.7600E-04 step=       76001 nels=       67351\\n[                15191015] time=  0.7800E-04 step=       78001 nels=       66894\\n[                15452459] time=  0.8000E-04 step=       80001 nels=       66472\\n[                15704124] time=  0.8200E-04 step=       82001 nels=       66051\\n[                15956690] time=  0.8400E-04 step=       84001 nels=       65704\\n[                16206563] time=  0.8600E-04 step=       86001 nels=       65373\\n[                16456435] time=  0.8800E-04 step=       88001 nels=       65023\\n[                16708972] time=  0.9000E-04 step=       90001 nels=       64707\\n[                16965244] time=  0.9200E-04 step=       92001 nels=       64439\\n[                17212723] time=  0.9400E-04 step=       94001 nels=       64182\\n[                17456597] time=  0.9600E-04 step=       96001 nels=       63973\\n[                17706007] time=  0.9800E-04 step=       98001 nels=       63795\\n[                17994578] time=  0.1000E-03 step=      100001 nels=       63619\\n[                18226253] time=  0.1020E-03 step=      102001 nels=       63485\\n[                18447673] time=  0.1040E-03 step=      104001 nels=       63347\\n[                18662054] time=  0.1060E-03 step=      106001 nels=       63208\\n[                18873618] time=  0.1080E-03 step=      108001 nels=       63090\\n[                19089643] time=  0.1100E-03 step=      110001 nels=       63010\\n[                19301425] time=  0.1120E-03 step=      112001 nels=       62909\\n[                19510287] time=  0.1140E-03 step=      114001 nels=       62824\\n[                19711316] time=  0.1160E-03 step=      116001 nels=       62744\\n[                19905128] time=  0.1180E-03 step=      118001 nels=       62681\\n[                20093102] time=  0.1200E-03 step=      120001 nels=       62625\\n[                20285380] time=  0.1220E-03 step=      122001 nels=       62577\\n[                20478303] time=  0.1240E-03 step=      124001 nels=       62527\\n[                20669652] time=  0.1260E-03 step=      126001 nels=       62478\\n[                20855519] time=  0.1280E-03 step=      128001 nels=       62424\\n[                21039143] time=  0.1300E-03 step=      130001 nels=       62394\\n[                21223146] time=  0.1320E-03 step=      132001 nels=       62361\\n[                21405623] time=  0.1340E-03 step=      134001 nels=       62325\\n[                21585812] time=  0.1360E-03 step=      136001 nels=       62293\\n[                21765342] time=  0.1380E-03 step=      138001 nels=       62262\\n[                21943960] time=  0.1400E-03 step=      140001 nels=       62244\\n[                22121827] time=  0.1420E-03 step=      142001 nels=       62225\\n[                22299164] time=  0.1440E-03 step=      144001 nels=       62206\\n[                22476527] time=  0.1460E-03 step=      146001 nels=       62196\\n[                22655803] time=  0.1480E-03 step=      148001 nels=       62186\\n[                22839345] time=  0.1500E-03 step=      150001 nels=       62173\\n[                23020055] time=  0.1520E-03 step=      152001 nels=       62163\\n[                23201692] time=  0.1540E-03 step=      154001 nels=       62148\\n[                23382885] time=  0.1560E-03 step=      156001 nels=       62132\\n[                23561482] time=  0.1580E-03 step=      158001 nels=       62121\\n[                23739704] time=  0.1600E-03 step=      160001 nels=       62113\\n[                23916628] time=  0.1620E-03 step=      162001 nels=       62099\\n[                24094789] time=  0.1640E-03 step=      164001 nels=       62092\\n[                24272152] time=  0.1660E-03 step=      166001 nels=       62085\\n[                24449456] time=  0.1680E-03 step=      168001 nels=       62078\\n[                24626972] time=  0.1700E-03 step=      170001 nels=       62072\\n[                24804246] time=  0.1720E-03 step=      172001 nels=       62069\\n[                24981535] time=  0.1740E-03 step=      174001 nels=       62066\\n[                25158412] time=  0.1760E-03 step=      176001 nels=       62065\\n[                25335787] time=  0.1780E-03 step=      178001 nels=       62063\\n[                25513273] time=  0.1800E-03 step=      180001 nels=       62060\\n[                25690145] time=  0.1820E-03 step=      182001 nels=       62059\\n[                25867636] time=  0.1840E-03 step=      184001 nels=       62057\\n[                26044940] time=  0.1860E-03 step=      186001 nels=       62056\\n[                26221926] time=  0.1880E-03 step=      188001 nels=       62054\\n[                26398577] time=  0.1900E-03 step=      190001 nels=       62054\\n[                26576226] time=  0.1920E-03 step=      192001 nels=       62053\\n[                26753128] time=  0.1940E-03 step=      194001 nels=       62051\\n[                26929863] time=  0.1960E-03 step=      196001 nels=       62051\\n[                27106645] time=  0.1980E-03 step=      198001 nels=       62051\\n[                27283325] time=  0.2000E-03 step=      200001 nels=       62051\\n[                27460577] time=  0.2020E-03 step=      202001 nels=       62050\\n[                27637501] time=  0.2040E-03 step=      204001 nels=       62049\\n[                27814247] time=  0.2060E-03 step=      206001 nels=       62049\\n[                27991414] time=  0.2080E-03 step=      208001 nels=       62049\\n[                28168148] time=  0.2100E-03 step=      210001 nels=       62049\\n[                28345165] time=  0.2120E-03 step=      212001 nels=       62049\\n[                28522160] time=  0.2140E-03 step=      214001 nels=       62049\\n[                28699307] time=  0.2160E-03 step=      216001 nels=       62048\\n[                28876228] time=  0.2180E-03 step=      218001 nels=       62047\\n[                29053344] time=  0.2200E-03 step=      220001 nels=       62045\\n',\n",
       "  '',\n",
       "  29.712374687194824]]"
      ]
     },
     "execution_count": 25,
     "metadata": {},
     "output_type": "execute_result"
    }
   ],
   "source": [
    "flow_action['details']['output']['FusionOutput']['details']['result']"
   ]
  },
  {
   "cell_type": "markdown",
   "id": "4557ffc7",
   "metadata": {},
   "source": [
    "## Attaching an input schema\n",
    "\n",
    "We can use a JSON input schema to both generate the Web interface and provide additional handrails when starting the flow. Here we define the schema and update the flow to include it.\n",
    "\n",
    "Example schema's can be found here: https://github.com/globus/globus-flows-trigger-examples"
   ]
  },
  {
   "cell_type": "code",
   "execution_count": 26,
   "id": "5ccad565",
   "metadata": {},
   "outputs": [],
   "source": [
    "schema = {\n",
    "    \"required\": [\n",
    "        \"input\"\n",
    "    ],\n",
    "    \"properties\": {\n",
    "        \"input\": {\n",
    "            \"type\": \"object\",\n",
    "            \"required\": [\n",
    "                \"source\",\n",
    "                \"destination\",\n",
    "                \"recursive_tx\",\n",
    "                \"compute_endpoint_id\",\n",
    "                \"compute_function_id\",\n",
    "                \"compute_function_kwargs\"\n",
    "            ],\n",
    "            \"properties\": {\n",
    "                \"source\": {\n",
    "                    \"type\": \"object\",\n",
    "                    \"title\": \"Select source collection and path\",\n",
    "                    \"description\": \"The source collection and path (path MUST end with a slash)\",\n",
    "                    \"format\": \"globus-collection\",\n",
    "                    \"required\": [\n",
    "                        \"id\",\n",
    "                        \"path\"\n",
    "                    ],\n",
    "                    \"properties\": {\n",
    "                        \"id\": {\n",
    "                            \"type\": \"string\",\n",
    "                            \"format\": \"uuid\"\n",
    "                        },\n",
    "                        \"path\": {\n",
    "                            \"type\": \"string\"\n",
    "                        }\n",
    "                    },\n",
    "                    \"additionalProperties\": False\n",
    "                },\n",
    "                \"destination\": {\n",
    "                    \"type\": \"object\",\n",
    "                    \"title\": \"Select destination collection and path\",\n",
    "                    \"description\": \"The destination collection and path (path MUST end with a slash); default collection is 'Globus Tutorials on ALCF Eagle'\",\n",
    "                    \"format\": \"globus-collection\",\n",
    "                    \"required\": [\n",
    "                        \"id\",\n",
    "                        \"path\"\n",
    "                    ],\n",
    "                    \"properties\": {\n",
    "                        \"id\": {\n",
    "                            \"type\": \"string\",\n",
    "                            \"format\": \"uuid\"\n",
    "                        },\n",
    "                        \"path\": {\n",
    "                            \"type\": \"string\"\n",
    "                        }\n",
    "                    },\n",
    "                    \"additionalProperties\": False\n",
    "                },\n",
    "                \"recursive_tx\": {\n",
    "                    \"type\": \"boolean\",\n",
    "                    \"title\": \"Recursive transfer\",\n",
    "                    \"description\": \"Whether or not to transfer recursively, must be true when transferring a directory.\",\n",
    "                    \"default\": True,\n",
    "                    \"additionalProperties\": False\n",
    "                },\n",
    "                \"compute_endpoint_id\": {\n",
    "                    \"type\": \"string\",\n",
    "                    \"format\": \"uuid\",                        \n",
    "                    \"title\": \"Globus Compute Endpoint ID\",\n",
    "                    \"default\": compute_endpoint,\n",
    "                    \"description\": \"The UUID of the Globus Compute endpoint where Tomocupy will run\",\n",
    "                    \"additionalProperties\": False\n",
    "                },\n",
    "                \"compute_function_id\": {\n",
    "                    \"type\": \"string\",\n",
    "                    \"format\": \"uuid\",                        \n",
    "                    \"title\": \"Globus Compute Function ID\",\n",
    "                    \"default\": fusion_func_uuid,\n",
    "                    \"description\": \"The UUID of the function to invoke; must be registered with the Globus Compute service\",\n",
    "                    \"additionalProperties\": False\n",
    "                },\n",
    "                \"compute_function_kwargs\": {\n",
    "                    \"type\": \"object\",\n",
    "                    \"title\": \"Function Inputs\",\n",
    "                    \"description\": \"Inputs to pass to the function\",\n",
    "                    \"required\": [\n",
    "                        \"run_directory\",\n",
    "                        \"config_path\",\n",
    "                    ],\n",
    "                    \"properties\": {\n",
    "                        \"run_directory\": {\n",
    "                            \"type\": \"string\",\n",
    "                        },\n",
    "                        \"config_path\": {\n",
    "                            \"type\" : \"string\",\n",
    "                            \"description\": \"Path to input config\",\n",
    "                            \"default\": \"ionorb_stl2d_boris.config\"\n",
    "                        },\n",
    "                    },\n",
    "                    \"additionalProperties\": False\n",
    "                }\n",
    "            },\n",
    "            \"additionalProperties\": False\n",
    "        },    \n",
    "    },\n",
    "    \"additionalProperties\": False\n",
    "}"
   ]
  },
  {
   "cell_type": "code",
   "execution_count": 27,
   "id": "d2e2b247",
   "metadata": {
    "scrolled": true
   },
   "outputs": [
    {
     "data": {
      "text/plain": [
       "GlobusHTTPResponse({\"id\":\"b969db26-c94b-47dc-adea-4daa6a2e7924\",\"definition\":{\"Comment\":\"Transfer and run Fusion ionorb\",\"StartAt\":\"TransferFiles\",\"States\":{\"TransferFiles\":{\"Comment\":\"Transfer files\",\"Type\":\"Action\",\"ActionUrl\":\"https://actions.automate.globus.org/transfer/transfer\",\"Parameters\":{\"source_endpoint_id.$\":\"$.input.source.id\",\"destination_endpoint_id.$\":\"$.input.destination.id\",\"transfer_items\":[{\"source_path.$\":\"$.input.source.path\",\"destination_path.$\":\"$.input.destination.path\",\"recursive.$\":\"$.input.recursive_tx\"}]},\"ResultPath\":\"$.TransferFiles\",\"WaitTime\":300,\"Next\":\"Fusion\"},\"Fusion\":{\"Comment\":\"Fusion\",\"Type\":\"Action\",\"ActionUrl\":\"https://compute.actions.globus.org/\",\"Parameters\":{\"endpoint.$\":\"$.input.compute_endpoint_id\",\"function.$\":\"$.input.compute_function_id\",\"kwargs.$\":\"$.input.compute_function_kwargs\"},\"ResultPath\":\"$.FusionOutput\",\"WaitTime\":3600,\"End\":true}}},\"input_schema\":{\"required\":[\"input\"],\"properties\":{\"input\":{\"type\":\"object\",\"required\":[\"source\",\"destination\",\"recursive_tx\",\"compute_endpoint_id\",\"compute_function_id\",\"compute_function_kwargs\"],\"properties\":{\"source\":{\"type\":\"object\",\"title\":\"Select source collection and path\",\"description\":\"The source collection and path (path MUST end with a slash)\",\"format\":\"globus-collection\",\"required\":[\"id\",\"path\"],\"properties\":{\"id\":{\"type\":\"string\",\"format\":\"uuid\"},\"path\":{\"type\":\"string\"}},\"additionalProperties\":false,\"propertyOrder\":[\"id\",\"path\"]},\"destination\":{\"type\":\"object\",\"title\":\"Select destination collection and path\",\"description\":\"The destination collection and path (path MUST end with a slash); default collection is 'Globus Tutorials on ALCF Eagle'\",\"format\":\"globus-collection\",\"required\":[\"id\",\"path\"],\"properties\":{\"id\":{\"type\":\"string\",\"format\":\"uuid\"},\"path\":{\"type\":\"string\"}},\"additionalProperties\":false,\"propertyOrder\":[\"id\",\"path\"]},\"recursive_tx\":{\"type\":\"boolean\",\"title\":\"Recursive transfer\",\"description\":\"Whether or not to transfer recursively, must be true when transferring a directory.\",\"default\":true,\"additionalProperties\":false},\"compute_endpoint_id\":{\"type\":\"string\",\"format\":\"uuid\",\"title\":\"Globus Compute Endpoint ID\",\"default\":\"317e156c-7712-4600-8cc2-3f5025b1c69a\",\"description\":\"The UUID of the Globus Compute endpoint where Tomocupy will run\",\"additionalProperties\":false},\"compute_function_id\":{\"type\":\"string\",\"format\":\"uuid\",\"title\":\"Globus Compute Function ID\",\"default\":\"8d4fd67d-887f-475e-bb09-e13921c5d72e\",\"description\":\"The UUID of the function to invoke; must be registered with the Globus Compute service\",\"additionalProperties\":false},\"compute_function_kwargs\":{\"type\":\"object\",\"title\":\"Function Inputs\",\"description\":\"Inputs to pass to the function\",\"required\":[\"run_directory\",\"config_path\"],\"properties\":{\"run_directory\":{\"type\":\"string\"},\"config_path\":{\"type\":\"string\",\"description\":\"Path to input config\",\"default\":\"ionorb_stl2d_boris.config\"}},\"additionalProperties\":false,\"propertyOrder\":[\"run_directory\",\"config_path\"]}},\"additionalProperties\":false,\"propertyOrder\":[\"source\",\"destination\",\"recursive_tx\",\"compute_endpoint_id\",\"compute_function_id\",\"compute_function_kwargs\"]}},\"additionalProperties\":false,\"propertyOrder\":[\"input\"]},\"globus_auth_scope\":\"https://auth.globus.org/scopes/b969db26-c94b-47dc-adea-4daa6a2e7924/flow_b969db26_c94b_47dc_adea_4daa6a2e7924_user\",\"synchronous\":false,\"log_supported\":true,\"types\":[\"Action\"],\"api_version\":\"1.0\",\"title\":\"Fusion tutorial example flow\",\"subtitle\":\"\",\"description\":\"\",\"keywords\":[],\"principal_urn\":\"urn:globus:auth:identity:b969db26-c94b-47dc-adea-4daa6a2e7924\",\"globus_auth_username\":\"b969db26-c94b-47dc-adea-4daa6a2e7924@clients.auth.globus.org\",\"created_at\":\"2023-09-12T17:36:15.307665+00:00\",\"updated_at\":\"2023-09-12T17:42:05.966047+00:00\",\"user_role\":\"flow_owner\",\"created_by\":\"urn:globus:auth:identity:bd2b5002-d274-11e5-b446-93314fed2a79\",\"visible_to\":[],\"runnable_by\":[],\"administered_by\":[],\"action_url\":\"https://flows.globus.org/flows/b969db26-c94b-47dc-adea-4daa6a2e7924\",\"flow_owner\":\"urn:globus:auth:identity:bd2b5002-d274-11e5-b446-93314fed2a79\",\"flow_viewers\":[],\"flow_starters\":[],\"flow_administrators\":[]}\n",
       ")"
      ]
     },
     "execution_count": 27,
     "metadata": {},
     "output_type": "execute_result"
    }
   ],
   "source": [
    "fc.update_flow(flow_id, flow_definition=flow_definition, input_schema=schema)"
   ]
  },
  {
   "cell_type": "markdown",
   "id": "79aec70b",
   "metadata": {},
   "source": [
    "## Try it!"
   ]
  },
  {
   "cell_type": "code",
   "execution_count": 28,
   "id": "e3dd4460",
   "metadata": {},
   "outputs": [
    {
     "name": "stdout",
     "output_type": "stream",
     "text": [
      "https://app.globus.org/flows/b969db26-c94b-47dc-adea-4daa6a2e7924/start\n"
     ]
    },
    {
     "name": "stderr",
     "output_type": "stream",
     "text": [
      "Channel closed.  Reopening.\n",
      "  <Channel number=1 CLOSED conn=<SelectConnection CLOSED transport=None params=<URLParameters host=compute.amqps.globus.org port=5671 virtual_host=/ ssl=True>>>\n",
      "  (Stream connection lost: ConnectionResetError(54, 'Connection reset by peer'))\n",
      "Channel closed.  Reopening.\n",
      "  <Channel number=1 CLOSED conn=<SelectConnection CLOSED transport=None params=<URLParameters host=compute.amqps.globus.org port=5671 virtual_host=/ ssl=True>>>\n",
      "  (Stream connection lost: ConnectionResetError(54, 'Connection reset by peer'))\n",
      "Channel closed.  Reopening.\n",
      "  <Channel number=1 CLOSED conn=<SelectConnection CLOSED transport=None params=<URLParameters host=compute.amqps.globus.org port=5671 virtual_host=/ ssl=True>>>\n",
      "  (Stream connection lost: ConnectionResetError(54, 'Connection reset by peer'))\n",
      "Channel closed.  Reopening.\n",
      "  <Channel number=1 CLOSED conn=<SelectConnection CLOSED transport=None params=<URLParameters host=compute.amqps.globus.org port=5671 virtual_host=/ ssl=True>>>\n",
      "  (Stream connection lost: ConnectionResetError(54, 'Connection reset by peer'))\n",
      "Channel closed.  Reopening.\n",
      "  <Channel number=1 CLOSED conn=<SelectConnection CLOSED transport=None params=<URLParameters host=compute.amqps.globus.org port=5671 virtual_host=/ ssl=True>>>\n",
      "  (Stream connection lost: ConnectionResetError(54, 'Connection reset by peer'))\n",
      "Channel closed.  Reopening.\n",
      "  <Channel number=1 CLOSED conn=<SelectConnection CLOSED transport=None params=<URLParameters host=compute.amqps.globus.org port=5671 virtual_host=/ ssl=True>>>\n",
      "  (Stream connection lost: ConnectionResetError(54, 'Connection reset by peer'))\n",
      "Channel closed.  Reopening.\n",
      "  <Channel number=1 CLOSED conn=<SelectConnection CLOSED transport=None params=<URLParameters host=compute.amqps.globus.org port=5671 virtual_host=/ ssl=True>>>\n",
      "  (Stream connection lost: ConnectionResetError(54, 'Connection reset by peer'))\n",
      "Channel closed.  Reopening.\n",
      "  <Channel number=1 CLOSED conn=<SelectConnection CLOSED transport=None params=<URLParameters host=compute.amqps.globus.org port=5671 virtual_host=/ ssl=True>>>\n",
      "  (Stream connection lost: ConnectionResetError(54, 'Connection reset by peer'))\n",
      "Channel closed.  Reopening.\n",
      "  <Channel number=1 CLOSED conn=<SelectConnection CLOSED transport=None params=<URLParameters host=compute.amqps.globus.org port=5671 virtual_host=/ ssl=True>>>\n",
      "  (Stream connection lost: ConnectionResetError(54, 'Connection reset by peer'))\n",
      "Channel closed.  Reopening.\n",
      "  <Channel number=1 CLOSED conn=<SelectConnection CLOSED transport=None params=<URLParameters host=compute.amqps.globus.org port=5671 virtual_host=/ ssl=True>>>\n",
      "  (Stream connection lost: ConnectionResetError(54, 'Connection reset by peer'))\n",
      "Channel closed.  Reopening.\n",
      "  <Channel number=1 CLOSED conn=<SelectConnection CLOSED transport=None params=<URLParameters host=compute.amqps.globus.org port=5671 virtual_host=/ ssl=True>>>\n",
      "  (Stream connection lost: ConnectionResetError(54, 'Connection reset by peer'))\n",
      "Channel closed.  Reopening.\n",
      "  <Channel number=1 CLOSED conn=<SelectConnection CLOSED transport=None params=<URLParameters host=compute.amqps.globus.org port=5671 virtual_host=/ ssl=True>>>\n",
      "  (Stream connection lost: ConnectionResetError(54, 'Connection reset by peer'))\n"
     ]
    }
   ],
   "source": [
    "print(f'https://app.globus.org/flows/{flow_id}/start')"
   ]
  }
 ],
 "metadata": {
  "kernelspec": {
   "display_name": "Python 3 (ipykernel)",
   "language": "python",
   "name": "python3"
  },
  "language_info": {
   "codemirror_mode": {
    "name": "ipython",
    "version": 3
   },
   "file_extension": ".py",
   "mimetype": "text/x-python",
   "name": "python",
   "nbconvert_exporter": "python",
   "pygments_lexer": "ipython3",
   "version": "3.9.0"
  }
 },
 "nbformat": 4,
 "nbformat_minor": 5
}
